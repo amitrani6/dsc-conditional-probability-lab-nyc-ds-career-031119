{
 "cells": [
  {
   "cell_type": "markdown",
   "metadata": {},
   "source": [
    "# Conditional Probability - Lab\n",
    "\n",
    "## Introduction\n",
    "\n",
    "In order to be ready for real world applications of probability, it is important to understand what happens when probabilities are not independent. Very often, the probability of a certain event depends on other events happening! Let's see how this all works in this lab.\n",
    "\n",
    "## Objectives\n",
    "\n",
    "You will be able to:\n",
    "\n",
    "- Understand and explain the conditional probability - $P(A \\cap B) = P(A \\mid B) P(B)$\n",
    "- Use the multiplication rule to find the probability of the intersection of two events\n",
    "- Apply the techniques learned in the lesson to simple problems\n",
    "\n",
    "## Exercise 1\n",
    "A coin is tossed and a single 6-sided dice is rolled. Find the probability of landing on the head side of the coin and rolling a 3 on the dice."
   ]
  },
  {
   "cell_type": "code",
   "execution_count": 4,
   "metadata": {},
   "outputs": [
    {
     "data": {
      "text/plain": [
       "8.333333333333332"
      ]
     },
     "execution_count": 4,
     "metadata": {},
     "output_type": "execute_result"
    }
   ],
   "source": [
    "# Your solution\n",
    "p_head = 0.5\n",
    "p_roll_3 = 1/6\n",
    "\n",
    "pTotal = p_head*p_roll_3\n",
    "\n",
    "pTotal*100"
   ]
  },
  {
   "cell_type": "markdown",
   "metadata": {},
   "source": [
    "## Exercise 2\n",
    "A school survey found that 9 out of 10 students like pizza. If three students are chosen at random **with replacement**, what is the probability that all three students like pizza?"
   ]
  },
  {
   "cell_type": "code",
   "execution_count": 8,
   "metadata": {},
   "outputs": [
    {
     "data": {
      "text/plain": [
       "0.7290000000000001"
      ]
     },
     "execution_count": 8,
     "metadata": {},
     "output_type": "execute_result"
    }
   ],
   "source": [
    "# Your Solution\n",
    "\n",
    "(9/10)**3"
   ]
  },
  {
   "cell_type": "markdown",
   "metadata": {},
   "source": [
    "## Exercise 3\n",
    "70% of your friends like chocolate flavored ice cream , and 35% like chocolate AND like strawberry flavors.\n",
    "\n",
    "What percent of those who like chocolate also like strawberry?"
   ]
  },
  {
   "cell_type": "code",
   "execution_count": 9,
   "metadata": {},
   "outputs": [
    {
     "data": {
      "text/plain": [
       "0.5"
      ]
     },
     "execution_count": 9,
     "metadata": {},
     "output_type": "execute_result"
    }
   ],
   "source": [
    "# Your solution \n",
    "friends_like_c = 0.7\n",
    "friends_like_c_s = 0.35\n",
    "friends_like_c_s/friends_like_c"
   ]
  },
  {
   "cell_type": "markdown",
   "metadata": {},
   "source": [
    "50% of your friends who like chocolate also like strawberry\n",
    "\n",
    "## Exercise 4\n",
    "What is the probability of drawing 2 consecutive aces from a deck of cards. "
   ]
  },
  {
   "cell_type": "code",
   "execution_count": 11,
   "metadata": {},
   "outputs": [
    {
     "data": {
      "text/plain": [
       "0.4524886877828055"
      ]
     },
     "execution_count": 11,
     "metadata": {},
     "output_type": "execute_result"
    }
   ],
   "source": [
    "# Your solution\n",
    "(4/52)*(3/51)*100"
   ]
  },
  {
   "cell_type": "markdown",
   "metadata": {},
   "source": [
    "## Exercise 5\n",
    "In a manufacturing factory that produces a certain product, there are 100 units of the product, 5 of which are defective. We pick three units from the 100 units at random. \n",
    "\n",
    "What is the probability that none of them are defective?\n",
    "Hint: Use the chain rule here!"
   ]
  },
  {
   "cell_type": "code",
   "execution_count": 13,
   "metadata": {},
   "outputs": [
    {
     "data": {
      "text/plain": [
       "85.59987631416203"
      ]
     },
     "execution_count": 13,
     "metadata": {},
     "output_type": "execute_result"
    }
   ],
   "source": [
    "# Your solution\n",
    "\n",
    "good = 0.95\n",
    "defective = 1-good\n",
    "\n",
    "(95/100)*(94/99)*(93/98)*100\n"
   ]
  },
  {
   "cell_type": "markdown",
   "metadata": {},
   "source": [
    "## Exercise 6\n",
    "\n",
    "Let's consider the example where 2 dice are thrown. Given that **at least one** of the dice has come up on a number higher than 4, what is the probability that the sum is 8?\n",
    "\n",
    "Let $i,j$ be the numbers shown on the dice. The events $A$ and $B$ are described below:\n",
    "\n",
    "* **Event $A$ is when either $i$ or $j$ is 5 or 6** (keep an eye on either - or)\n",
    "* **Event $B$ is when $i + j = 8$**\n",
    "\n",
    "\n",
    "* What is the size of sample space $\\Omega$ ?\n",
    "* What is $P(A \\cap B)$ ?\n",
    "* What is $P(A)$ ?\n",
    "* Use above to calculate $P(B \\mid A)$"
   ]
  },
  {
   "cell_type": "markdown",
   "metadata": {},
   "source": [
    "solution\n",
    "\n",
    "$A:= {(i,j) \\in \\Omega \\mid \\text{either $i$ or $j$ is 5 or 6}}$\n",
    "\n",
    "$B:= {(i,j)\\in \\Omega \\mid i+j = 8}$\n",
    "\n",
    "In total, there are possible 36 outcomes, so $\\Omega = 36$.\n",
    "\n",
    "$P(A) = 20/36$ - Event $A$ has 20 possible outcomes out of 36 - ( five in each case * 4 )\n",
    "\n",
    "$P(A \\cap B) = 4/36$ - Event $B$ has 4 possible outcomes out of 36 - (2 and 6, 3 and 5, 6 and 2, 5 and 3)\n",
    "\n",
    "We want to know what the probability of $B$ is given $A$, so $P(B \\mid A)= \\dfrac{P(B\\cap A)}{P(A)}$. This leads to:"
   ]
  },
  {
   "cell_type": "code",
   "execution_count": 15,
   "metadata": {},
   "outputs": [
    {
     "data": {
      "text/plain": [
       "0.19999999999999998"
      ]
     },
     "execution_count": 15,
     "metadata": {},
     "output_type": "execute_result"
    }
   ],
   "source": [
    "# P(A ∩ Bi) = P(A|Bi)P(Bi)\n",
    "# Your solution\n",
    "\n",
    "#If only one above 4: (5,x) - 4 Possibilities\n",
    "#If only one above 4: (6,x) - 4 Possibilities\n",
    "#If only one above 4: (x,5) - 4 Possibilities\n",
    "#If only one above 4: (x,6) - 4 Possibilities\n",
    "\n",
    "#If both above 4: (5,5)\n",
    "#If both above 4: (5,6)\n",
    "#If both above 4: (6,5)\n",
    "#If both above 4: (6,6)\n",
    "\n",
    "#P(A) = = 20/36\n",
    "\n",
    "\n",
    "#OR\n",
    "\n",
    "#(5,x) - 6 possibilities\n",
    "#(6,x) - 6 possibilities\n",
    "#(x,5) - 6 possibilities\n",
    "#(x,6) - 6 possibilities\n",
    "\n",
    "#24 total but repeats in each case where there are doubles\n",
    "\n",
    "#24-4 = 20 Possibilities\n",
    "\n",
    "#P(A) = 20/36\n",
    "\n",
    "#P(A∩B) = 4/36 (to get a total of eight if a roll is at least either a 5 or 6)\n",
    "#P(B∣A) = (4/36)/(20/36)\n",
    "(4/36)/(20/36)"
   ]
  },
  {
   "cell_type": "markdown",
   "metadata": {},
   "source": [
    "## Exercise 7\n",
    "\n",
    "Let's consider a credit card example. At a supermarket, customers are selected randomly, the store owner recorded whether costumers owned a Visa card (event A) or an Amex credit card (event B). Some customers own both cards.\n",
    "You can assume that:\n",
    "\n",
    "- $P(A)$ = 0.5\n",
    "- $P(B)$ = 0.4\n",
    "- both $A$ and $B$ = 0.25.\n",
    "\n",
    "\n",
    "With the knowledge we have about conditional probabilities, compute and interpret the following probabilities:\n",
    "\n",
    "- $P(B \\mid A)$\n",
    "- $P(B' \\mid A)$\n",
    "- $P(A \\mid B)$\n",
    "- $P(A' \\mid B)$\n"
   ]
  },
  {
   "cell_type": "code",
   "execution_count": null,
   "metadata": {},
   "outputs": [],
   "source": [
    "Your solution\n",
    "\n",
    "#P(B∣A) = both/p(A)\n",
    "print(0.25/.5)\n",
    "\n",
    "\n",
    "#P(B′∣A) = 1- (0.25/.5)\n",
    "print(1-(0.25/.5))\n",
    "\n",
    "\n",
    "#P(A∣B) = 0.25/0.4\n",
    "print(1-(0.25/.5))\n",
    "\n",
    "#P(A′∣B) = 1-0.25/0.4\n",
    "print(1-(0.25/.5))"
   ]
  },
  {
   "cell_type": "markdown",
   "metadata": {},
   "source": [
    "## Summary \n",
    "\n",
    "In this lab you practiced conditional probability and its theorem with some simple problems. The key takeaway from this lab is to be able to identify random events as dependent or independent and calculating the probability of their occurrence using appropriate methods. Next you'll learn about some more conditional probability axioms, building on the knowledge we have so far. "
   ]
  }
 ],
 "metadata": {
  "kernelspec": {
   "display_name": "Python 3",
   "language": "python",
   "name": "python3"
  },
  "language_info": {
   "codemirror_mode": {
    "name": "ipython",
    "version": 3
   },
   "file_extension": ".py",
   "mimetype": "text/x-python",
   "name": "python",
   "nbconvert_exporter": "python",
   "pygments_lexer": "ipython3",
   "version": "3.6.6"
  }
 },
 "nbformat": 4,
 "nbformat_minor": 2
}
